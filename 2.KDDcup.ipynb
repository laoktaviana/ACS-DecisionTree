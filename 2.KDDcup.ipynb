{
  "nbformat": 4,
  "nbformat_minor": 0,
  "metadata": {
    "colab": {
      "name": "Untitled0.ipynb",
      "provenance": [],
      "authorship_tag": "ABX9TyO4sRgbXo9GXGz8MXyg5GQn",
      "include_colab_link": true
    },
    "kernelspec": {
      "name": "python3",
      "display_name": "Python 3"
    },
    "language_info": {
      "name": "python"
    }
  },
  "cells": [
    {
      "cell_type": "markdown",
      "metadata": {
        "id": "view-in-github",
        "colab_type": "text"
      },
      "source": [
        "<a href=\"https://colab.research.google.com/github/laoktaviana/ACS-UAS/blob/main/2.KDDcup.ipynb\" target=\"_parent\"><img src=\"https://colab.research.google.com/assets/colab-badge.svg\" alt=\"Open In Colab\"/></a>"
      ]
    },
    {
      "cell_type": "code",
      "execution_count": 1,
      "metadata": {
        "id": "Mr17FT0T3jid"
      },
      "outputs": [],
      "source": [
        "!pip install requests sklearn pandas numpy matplotlib seaborn > /dev/nul"
      ]
    },
    {
      "cell_type": "code",
      "source": [
        "%matplotlib inline\n",
        "\n",
        "import matplotlib.pyplot as plt\n",
        "import numpy as np\n",
        "import os\n",
        "import pandas as pd\n",
        "import requests\n",
        "import seaborn as sns\n",
        "\n",
        "from sklearn.model_selection import train_test_split\n",
        "from sklearn.preprocessing import LabelEncoder, OneHotEncoder, OrdinalEncoder\n",
        "from sklearn.tree import DecisionTreeClassifier, export_text, plot_tree\n",
        "\n",
        "kdd99_names_url = 'http://kdd.ics.uci.edu/databases/kddcup99/kddcup.names'\n",
        "training_attack_types ='http://kdd.ics.uci.edu/databases/kddcup99/training_attack_types'\n",
        "kdd99_20p_filename = 'KDDTrain+_20Percent.csv'\n",
        "kdd99_20p_url = \"https://gist.githubusercontent.com/sblack4/3a34ebf5a8f02629f3f5ab8547c2f85f/raw/1985460fe1b036c28c0235871c6e770409be4e5b/KDDTrain+_20Percent.csv\""
      ],
      "metadata": {
        "id": "vyCxgsMg3rJ0"
      },
      "execution_count": 3,
      "outputs": []
    },
    {
      "cell_type": "code",
      "source": [
        "def dl_file(url):\n",
        "  filename = os.path.basename(url)\n",
        "  with open(filename, 'wb') as fh:\n",
        "    r = requests.get(url)\n",
        "    fh.write(r.content)\n",
        "  return filename\n",
        "\n",
        "files_to_dl = [kdd99_names_url, training_attack_types, kdd99_20p_url]\n",
        "\n",
        "list(map(dl_file, files_to_dl))"
      ],
      "metadata": {
        "colab": {
          "base_uri": "https://localhost:8080/"
        },
        "id": "YWiWSnw_35PU",
        "outputId": "c7ce51a2-7538-42de-b772-fa66530cf65d"
      },
      "execution_count": 4,
      "outputs": [
        {
          "output_type": "execute_result",
          "data": {
            "text/plain": [
              "['kddcup.names', 'training_attack_types', 'KDDTrain+_20Percent.csv']"
            ]
          },
          "metadata": {},
          "execution_count": 4
        }
      ]
    },
    {
      "cell_type": "code",
      "source": [
        "!head KDDTrain+_20Percent.txt\n"
      ],
      "metadata": {
        "colab": {
          "base_uri": "https://localhost:8080/"
        },
        "id": "icRVScC3387w",
        "outputId": "4d8008e4-63f9-4fef-822e-6166d6865a00"
      },
      "execution_count": 5,
      "outputs": [
        {
          "output_type": "stream",
          "name": "stdout",
          "text": [
            "head: cannot open 'KDDTrain+_20Percent.txt' for reading: No such file or directory\n"
          ]
        }
      ]
    },
    {
      "cell_type": "code",
      "source": [
        "!head kddcup.names"
      ],
      "metadata": {
        "colab": {
          "base_uri": "https://localhost:8080/"
        },
        "id": "-uJnnOYI3_Tl",
        "outputId": "382a62c3-d907-458a-b19c-489239d042a8"
      },
      "execution_count": 6,
      "outputs": [
        {
          "output_type": "stream",
          "name": "stdout",
          "text": [
            "back,buffer_overflow,ftp_write,guess_passwd,imap,ipsweep,land,loadmodule,multihop,neptune,nmap,normal,perl,phf,pod,portsweep,rootkit,satan,smurf,spy,teardrop,warezclient,warezmaster.\n",
            "duration: continuous.\n",
            "protocol_type: symbolic.\n",
            "service: symbolic.\n",
            "flag: symbolic.\n",
            "src_bytes: continuous.\n",
            "dst_bytes: continuous.\n",
            "land: symbolic.\n",
            "wrong_fragment: continuous.\n",
            "urgent: continuous.\n"
          ]
        }
      ]
    },
    {
      "cell_type": "code",
      "source": [
        "!head training_attack_types"
      ],
      "metadata": {
        "colab": {
          "base_uri": "https://localhost:8080/"
        },
        "id": "iMRioM1Y4CCN",
        "outputId": "42d3e918-441e-4341-94be-a0ebcc216b65"
      },
      "execution_count": 7,
      "outputs": [
        {
          "output_type": "stream",
          "name": "stdout",
          "text": [
            "back dos\n",
            "buffer_overflow u2r\n",
            "ftp_write r2l\n",
            "guess_passwd r2l\n",
            "imap r2l\n",
            "ipsweep probe\n",
            "land dos\n",
            "loadmodule u2r\n",
            "multihop r2l\n",
            "neptune dos\n"
          ]
        }
      ]
    }
  ]
}