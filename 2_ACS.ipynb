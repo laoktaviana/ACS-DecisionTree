{
  "nbformat": 4,
  "nbformat_minor": 0,
  "metadata": {
    "colab": {
      "name": "2-ACS.ipynb",
      "provenance": [],
      "collapsed_sections": [],
      "authorship_tag": "ABX9TyNb5djItKXl5967gKSFlzd+",
      "include_colab_link": true
    },
    "kernelspec": {
      "name": "python3",
      "display_name": "Python 3"
    },
    "language_info": {
      "name": "python"
    }
  },
  "cells": [
    {
      "cell_type": "markdown",
      "metadata": {
        "id": "view-in-github",
        "colab_type": "text"
      },
      "source": [
        "<a href=\"https://colab.research.google.com/github/laoktaviana/ACS-UAS/blob/main/2_ACS.ipynb\" target=\"_parent\"><img src=\"https://colab.research.google.com/assets/colab-badge.svg\" alt=\"Open In Colab\"/></a>"
      ]
    },
    {
      "cell_type": "markdown",
      "source": [
        "1. Install python libraries"
      ],
      "metadata": {
        "id": "6_MKg9I0aEoD"
      }
    },
    {
      "cell_type": "code",
      "execution_count": 35,
      "metadata": {
        "id": "Mr17FT0T3jid"
      },
      "outputs": [],
      "source": [
        "!pip install requests sklearn pandas numpy matplotlib seaborn > /dev/nul"
      ]
    },
    {
      "cell_type": "markdown",
      "source": [
        "2. Load libraries and declare vars"
      ],
      "metadata": {
        "id": "p3jteV7Cbucm"
      }
    },
    {
      "cell_type": "code",
      "source": [
        "%matplotlib inline\n",
        "\n",
        "import matplotlib.pyplot as plt\n",
        "import numpy as np\n",
        "import os\n",
        "import pandas as pd\n",
        "import requests\n",
        "import seaborn as sns\n",
        "\n",
        "from sklearn.model_selection import train_test_split\n",
        "from sklearn.preprocessing import LabelEncoder, OneHotEncoder, OrdinalEncoder\n",
        "from sklearn.tree import DecisionTreeClassifier, export_text, plot_tree\n",
        "\n",
        "#File retrieved from the UNB/UCI site \n",
        "kdd99_names_url = 'http://kdd.ics.uci.edu/databases/kddcup99/kddcup.names'\n",
        "training_attack_types ='http://kdd.ics.uci.edu/databases/kddcup99/training_attack_types'\n",
        "kdd99_20p_filename = 'KDDTrain+_20Percent.csv'\n",
        "kdd99_20p_url = \"https://gist.githubusercontent.com/sblack4/3a34ebf5a8f02629f3f5ab8547c2f85f/raw/1985460fe1b036c28c0235871c6e770409be4e5b/KDDTrain+_20Percent.csv\""
      ],
      "metadata": {
        "id": "vyCxgsMg3rJ0"
      },
      "execution_count": 36,
      "outputs": []
    },
    {
      "cell_type": "markdown",
      "source": [
        "3. Download remaning file"
      ],
      "metadata": {
        "id": "7ACvSOlicY8m"
      }
    },
    {
      "cell_type": "code",
      "source": [
        "#Download file containing the column names and map of the attacks also their type\n",
        "def dl_file(url):\n",
        "  filename = os.path.basename(url)\n",
        "  with open(filename, 'wb') as fh:\n",
        "    r = requests.get(url)\n",
        "    fh.write(r.content)\n",
        "  return filename\n",
        "\n",
        "files_to_dl = [kdd99_names_url, training_attack_types, kdd99_20p_url]\n",
        "\n",
        "list(map(dl_file, files_to_dl))"
      ],
      "metadata": {
        "colab": {
          "base_uri": "https://localhost:8080/"
        },
        "id": "YWiWSnw_35PU",
        "outputId": "8e18f061-f5bc-4075-8d90-488b29041775"
      },
      "execution_count": 37,
      "outputs": [
        {
          "output_type": "execute_result",
          "data": {
            "text/plain": [
              "['kddcup.names', 'training_attack_types', 'KDDTrain+_20Percent.csv']"
            ]
          },
          "metadata": {},
          "execution_count": 37
        }
      ]
    },
    {
      "cell_type": "markdown",
      "source": [
        "4. View file contents\n",
        "\n"
      ],
      "metadata": {
        "id": "WPd6ntw6c4z6"
      }
    },
    {
      "cell_type": "code",
      "source": [
        "!head KDDTrain+_20Percent.txt\n",
        "#The head command is used to quickly get these first few from through the shell. "
      ],
      "metadata": {
        "colab": {
          "base_uri": "https://localhost:8080/"
        },
        "id": "icRVScC3387w",
        "outputId": "92b7ce67-b2cd-471d-e691-1fc8ed745e87"
      },
      "execution_count": 38,
      "outputs": [
        {
          "output_type": "stream",
          "name": "stdout",
          "text": [
            "head: cannot open 'KDDTrain+_20Percent.txt' for reading: No such file or directory\n"
          ]
        }
      ]
    },
    {
      "cell_type": "code",
      "source": [
        "!head kddcup.names"
      ],
      "metadata": {
        "colab": {
          "base_uri": "https://localhost:8080/"
        },
        "id": "-uJnnOYI3_Tl",
        "outputId": "a9385654-562b-4bf8-a1c8-1819f55de3fb"
      },
      "execution_count": 39,
      "outputs": [
        {
          "output_type": "stream",
          "name": "stdout",
          "text": [
            "back,buffer_overflow,ftp_write,guess_passwd,imap,ipsweep,land,loadmodule,multihop,neptune,nmap,normal,perl,phf,pod,portsweep,rootkit,satan,smurf,spy,teardrop,warezclient,warezmaster.\n",
            "duration: continuous.\n",
            "protocol_type: symbolic.\n",
            "service: symbolic.\n",
            "flag: symbolic.\n",
            "src_bytes: continuous.\n",
            "dst_bytes: continuous.\n",
            "land: symbolic.\n",
            "wrong_fragment: continuous.\n",
            "urgent: continuous.\n"
          ]
        }
      ]
    },
    {
      "cell_type": "code",
      "source": [
        "!head training_attack_types"
      ],
      "metadata": {
        "colab": {
          "base_uri": "https://localhost:8080/"
        },
        "id": "iMRioM1Y4CCN",
        "outputId": "91f15095-81fe-45ef-ee89-53872a5fbcd6"
      },
      "execution_count": 40,
      "outputs": [
        {
          "output_type": "stream",
          "name": "stdout",
          "text": [
            "back dos\n",
            "buffer_overflow u2r\n",
            "ftp_write r2l\n",
            "guess_passwd r2l\n",
            "imap r2l\n",
            "ipsweep probe\n",
            "land dos\n",
            "loadmodule u2r\n",
            "multihop r2l\n",
            "neptune dos\n"
          ]
        }
      ]
    },
    {
      "cell_type": "markdown",
      "source": [
        "5. Load labels and data"
      ],
      "metadata": {
        "id": "Q3rCYItqdkja"
      }
    },
    {
      "cell_type": "code",
      "source": [
        "#The first file\n",
        "with open('kddcup.names', 'r') as fh:\n",
        "  fh.readline() # get rid of the first line\n",
        "  lines = fh.readlines()\n",
        "\n",
        "col_names = []\n",
        "for line in lines:\n",
        "  name = line.split(':')[0]\n",
        "  col_names.append(name)\n",
        "\n",
        "# the last one is the target, attack_type\n",
        "col_names.append('attack_type')\n",
        "col_names.append('successfulPredictions')"
      ],
      "metadata": {
        "id": "hyD0HW1j4S1f"
      },
      "execution_count": 41,
      "outputs": []
    },
    {
      "cell_type": "code",
      "source": [
        "#Fig1. Column Names\n",
        "for nm in col_names: print('  - ' + nm)"
      ],
      "metadata": {
        "colab": {
          "base_uri": "https://localhost:8080/"
        },
        "id": "3OJ8iwwX4VsY",
        "outputId": "04ea911e-5e00-4b64-93d6-dd77b20428c3"
      },
      "execution_count": 42,
      "outputs": [
        {
          "output_type": "stream",
          "name": "stdout",
          "text": [
            "  - duration\n",
            "  - protocol_type\n",
            "  - service\n",
            "  - flag\n",
            "  - src_bytes\n",
            "  - dst_bytes\n",
            "  - land\n",
            "  - wrong_fragment\n",
            "  - urgent\n",
            "  - hot\n",
            "  - num_failed_logins\n",
            "  - logged_in\n",
            "  - num_compromised\n",
            "  - root_shell\n",
            "  - su_attempted\n",
            "  - num_root\n",
            "  - num_file_creations\n",
            "  - num_shells\n",
            "  - num_access_files\n",
            "  - num_outbound_cmds\n",
            "  - is_host_login\n",
            "  - is_guest_login\n",
            "  - count\n",
            "  - srv_count\n",
            "  - serror_rate\n",
            "  - srv_serror_rate\n",
            "  - rerror_rate\n",
            "  - srv_rerror_rate\n",
            "  - same_srv_rate\n",
            "  - diff_srv_rate\n",
            "  - srv_diff_host_rate\n",
            "  - dst_host_count\n",
            "  - dst_host_srv_count\n",
            "  - dst_host_same_srv_rate\n",
            "  - dst_host_diff_srv_rate\n",
            "  - dst_host_same_src_port_rate\n",
            "  - dst_host_srv_diff_host_rate\n",
            "  - dst_host_serror_rate\n",
            "  - dst_host_srv_serror_rate\n",
            "  - dst_host_rerror_rate\n",
            "  - dst_host_srv_rerror_rate\n",
            "  - attack_type\n",
            "  - successfulPredictions\n"
          ]
        }
      ]
    },
    {
      "cell_type": "code",
      "source": [
        "#The second file\n",
        "#This mapping reduce the 23 attacks to 4 types of attacks. \n",
        "with open('training_attack_types', 'r') as fh:\n",
        "  lines = fh.readlines()\n",
        "\n",
        "print('-'*24)\n",
        "print(f'{\"Attack \".rjust(16, \" \")}-> type')\n",
        "print('-'*24)\n",
        "attack_types = {}\n",
        "for line in lines:\n",
        "  line = line.replace('\\n', '')\n",
        "  if not line: continue\n",
        "  typ = line.split(' ')[0]\n",
        "  cls = line.split(' ')[1]\n",
        "  attack_types[typ] = cls"
      ],
      "metadata": {
        "colab": {
          "base_uri": "https://localhost:8080/"
        },
        "id": "M5eXMuqR4ZoM",
        "outputId": "ede11621-ddc5-4c1e-c40d-3b5a6b078c77"
      },
      "execution_count": 43,
      "outputs": [
        {
          "output_type": "stream",
          "name": "stdout",
          "text": [
            "------------------------\n",
            "         Attack -> type\n",
            "------------------------\n"
          ]
        }
      ]
    },
    {
      "cell_type": "code",
      "source": [
        "#Not just records of attacks but also records of a normal state for system\n",
        "for typ, cls in attack_types.items(): print(f'{typ.ljust(16, \" \")}-> {cls}')"
      ],
      "metadata": {
        "colab": {
          "base_uri": "https://localhost:8080/"
        },
        "id": "rBLJQ-4F4bzn",
        "outputId": "7a12c42e-1792-432c-c093-de5cea2f4c4d"
      },
      "execution_count": 44,
      "outputs": [
        {
          "output_type": "stream",
          "name": "stdout",
          "text": [
            "back            -> dos\n",
            "buffer_overflow -> u2r\n",
            "ftp_write       -> r2l\n",
            "guess_passwd    -> r2l\n",
            "imap            -> r2l\n",
            "ipsweep         -> probe\n",
            "land            -> dos\n",
            "loadmodule      -> u2r\n",
            "multihop        -> r2l\n",
            "neptune         -> dos\n",
            "nmap            -> probe\n",
            "perl            -> u2r\n",
            "phf             -> r2l\n",
            "pod             -> dos\n",
            "portsweep       -> probe\n",
            "rootkit         -> u2r\n",
            "satan           -> probe\n",
            "smurf           -> dos\n",
            "spy             -> r2l\n",
            "teardrop        -> dos\n",
            "warezclient     -> r2l\n",
            "warezmaster     -> r2l\n"
          ]
        }
      ]
    },
    {
      "cell_type": "markdown",
      "source": [
        "6. Creat DataFrame from labels and data"
      ],
      "metadata": {
        "id": "GrOEvOj8f_4B"
      }
    },
    {
      "cell_type": "code",
      "source": [
        "#load data file\n",
        "#pandas library used to read file into a DataFrame with the column names that was list above. \n",
        "#attack_type is appended as the attack type\n",
        "kdd99_20p_df = pd.read_csv(kdd99_20p_filename, names=col_names, index_col=None)\n",
        "\n",
        "kdd99_20p_df['attack_class'] = kdd99_20p_df.apply(\n",
        "    lambda x: 'normal' if x['attack_type'] == 'normal' else attack_types[x['attack_type']], \n",
        "    axis=1)"
      ],
      "metadata": {
        "id": "o2kFXJlX4fR_"
      },
      "execution_count": 45,
      "outputs": []
    },
    {
      "cell_type": "code",
      "source": [
        "#The first five lines at the head of the DataFrame\n",
        "kdd99_20p_df.head()"
      ],
      "metadata": {
        "colab": {
          "base_uri": "https://localhost:8080/",
          "height": 270
        },
        "id": "AaNsosTq4hNv",
        "outputId": "6dd1dc33-077e-4dad-abf5-7479c20bae2f"
      },
      "execution_count": 46,
      "outputs": [
        {
          "output_type": "execute_result",
          "data": {
            "text/html": [
              "\n",
              "  <div id=\"df-41540ab4-efd2-42c8-aad9-1c323f46b74a\">\n",
              "    <div class=\"colab-df-container\">\n",
              "      <div>\n",
              "<style scoped>\n",
              "    .dataframe tbody tr th:only-of-type {\n",
              "        vertical-align: middle;\n",
              "    }\n",
              "\n",
              "    .dataframe tbody tr th {\n",
              "        vertical-align: top;\n",
              "    }\n",
              "\n",
              "    .dataframe thead th {\n",
              "        text-align: right;\n",
              "    }\n",
              "</style>\n",
              "<table border=\"1\" class=\"dataframe\">\n",
              "  <thead>\n",
              "    <tr style=\"text-align: right;\">\n",
              "      <th></th>\n",
              "      <th>duration</th>\n",
              "      <th>protocol_type</th>\n",
              "      <th>service</th>\n",
              "      <th>flag</th>\n",
              "      <th>src_bytes</th>\n",
              "      <th>dst_bytes</th>\n",
              "      <th>land</th>\n",
              "      <th>wrong_fragment</th>\n",
              "      <th>urgent</th>\n",
              "      <th>hot</th>\n",
              "      <th>num_failed_logins</th>\n",
              "      <th>logged_in</th>\n",
              "      <th>num_compromised</th>\n",
              "      <th>root_shell</th>\n",
              "      <th>su_attempted</th>\n",
              "      <th>num_root</th>\n",
              "      <th>num_file_creations</th>\n",
              "      <th>num_shells</th>\n",
              "      <th>num_access_files</th>\n",
              "      <th>num_outbound_cmds</th>\n",
              "      <th>is_host_login</th>\n",
              "      <th>is_guest_login</th>\n",
              "      <th>count</th>\n",
              "      <th>srv_count</th>\n",
              "      <th>serror_rate</th>\n",
              "      <th>srv_serror_rate</th>\n",
              "      <th>rerror_rate</th>\n",
              "      <th>srv_rerror_rate</th>\n",
              "      <th>same_srv_rate</th>\n",
              "      <th>diff_srv_rate</th>\n",
              "      <th>srv_diff_host_rate</th>\n",
              "      <th>dst_host_count</th>\n",
              "      <th>dst_host_srv_count</th>\n",
              "      <th>dst_host_same_srv_rate</th>\n",
              "      <th>dst_host_diff_srv_rate</th>\n",
              "      <th>dst_host_same_src_port_rate</th>\n",
              "      <th>dst_host_srv_diff_host_rate</th>\n",
              "      <th>dst_host_serror_rate</th>\n",
              "      <th>dst_host_srv_serror_rate</th>\n",
              "      <th>dst_host_rerror_rate</th>\n",
              "      <th>dst_host_srv_rerror_rate</th>\n",
              "      <th>attack_type</th>\n",
              "      <th>successfulPredictions</th>\n",
              "      <th>attack_class</th>\n",
              "    </tr>\n",
              "  </thead>\n",
              "  <tbody>\n",
              "    <tr>\n",
              "      <th>0</th>\n",
              "      <td>0</td>\n",
              "      <td>tcp</td>\n",
              "      <td>ftp_data</td>\n",
              "      <td>SF</td>\n",
              "      <td>491</td>\n",
              "      <td>0</td>\n",
              "      <td>0</td>\n",
              "      <td>0</td>\n",
              "      <td>0</td>\n",
              "      <td>0</td>\n",
              "      <td>0</td>\n",
              "      <td>0</td>\n",
              "      <td>0</td>\n",
              "      <td>0</td>\n",
              "      <td>0</td>\n",
              "      <td>0</td>\n",
              "      <td>0</td>\n",
              "      <td>0</td>\n",
              "      <td>0</td>\n",
              "      <td>0</td>\n",
              "      <td>0</td>\n",
              "      <td>0</td>\n",
              "      <td>2</td>\n",
              "      <td>2</td>\n",
              "      <td>0.0</td>\n",
              "      <td>0.0</td>\n",
              "      <td>0.0</td>\n",
              "      <td>0.0</td>\n",
              "      <td>1.00</td>\n",
              "      <td>0.00</td>\n",
              "      <td>0.00</td>\n",
              "      <td>150</td>\n",
              "      <td>25</td>\n",
              "      <td>0.17</td>\n",
              "      <td>0.03</td>\n",
              "      <td>0.17</td>\n",
              "      <td>0.00</td>\n",
              "      <td>0.00</td>\n",
              "      <td>0.00</td>\n",
              "      <td>0.05</td>\n",
              "      <td>0.00</td>\n",
              "      <td>normal</td>\n",
              "      <td>20</td>\n",
              "      <td>normal</td>\n",
              "    </tr>\n",
              "    <tr>\n",
              "      <th>1</th>\n",
              "      <td>0</td>\n",
              "      <td>udp</td>\n",
              "      <td>other</td>\n",
              "      <td>SF</td>\n",
              "      <td>146</td>\n",
              "      <td>0</td>\n",
              "      <td>0</td>\n",
              "      <td>0</td>\n",
              "      <td>0</td>\n",
              "      <td>0</td>\n",
              "      <td>0</td>\n",
              "      <td>0</td>\n",
              "      <td>0</td>\n",
              "      <td>0</td>\n",
              "      <td>0</td>\n",
              "      <td>0</td>\n",
              "      <td>0</td>\n",
              "      <td>0</td>\n",
              "      <td>0</td>\n",
              "      <td>0</td>\n",
              "      <td>0</td>\n",
              "      <td>0</td>\n",
              "      <td>13</td>\n",
              "      <td>1</td>\n",
              "      <td>0.0</td>\n",
              "      <td>0.0</td>\n",
              "      <td>0.0</td>\n",
              "      <td>0.0</td>\n",
              "      <td>0.08</td>\n",
              "      <td>0.15</td>\n",
              "      <td>0.00</td>\n",
              "      <td>255</td>\n",
              "      <td>1</td>\n",
              "      <td>0.00</td>\n",
              "      <td>0.60</td>\n",
              "      <td>0.88</td>\n",
              "      <td>0.00</td>\n",
              "      <td>0.00</td>\n",
              "      <td>0.00</td>\n",
              "      <td>0.00</td>\n",
              "      <td>0.00</td>\n",
              "      <td>normal</td>\n",
              "      <td>15</td>\n",
              "      <td>normal</td>\n",
              "    </tr>\n",
              "    <tr>\n",
              "      <th>2</th>\n",
              "      <td>0</td>\n",
              "      <td>tcp</td>\n",
              "      <td>private</td>\n",
              "      <td>S0</td>\n",
              "      <td>0</td>\n",
              "      <td>0</td>\n",
              "      <td>0</td>\n",
              "      <td>0</td>\n",
              "      <td>0</td>\n",
              "      <td>0</td>\n",
              "      <td>0</td>\n",
              "      <td>0</td>\n",
              "      <td>0</td>\n",
              "      <td>0</td>\n",
              "      <td>0</td>\n",
              "      <td>0</td>\n",
              "      <td>0</td>\n",
              "      <td>0</td>\n",
              "      <td>0</td>\n",
              "      <td>0</td>\n",
              "      <td>0</td>\n",
              "      <td>0</td>\n",
              "      <td>123</td>\n",
              "      <td>6</td>\n",
              "      <td>1.0</td>\n",
              "      <td>1.0</td>\n",
              "      <td>0.0</td>\n",
              "      <td>0.0</td>\n",
              "      <td>0.05</td>\n",
              "      <td>0.07</td>\n",
              "      <td>0.00</td>\n",
              "      <td>255</td>\n",
              "      <td>26</td>\n",
              "      <td>0.10</td>\n",
              "      <td>0.05</td>\n",
              "      <td>0.00</td>\n",
              "      <td>0.00</td>\n",
              "      <td>1.00</td>\n",
              "      <td>1.00</td>\n",
              "      <td>0.00</td>\n",
              "      <td>0.00</td>\n",
              "      <td>neptune</td>\n",
              "      <td>19</td>\n",
              "      <td>dos</td>\n",
              "    </tr>\n",
              "    <tr>\n",
              "      <th>3</th>\n",
              "      <td>0</td>\n",
              "      <td>tcp</td>\n",
              "      <td>http</td>\n",
              "      <td>SF</td>\n",
              "      <td>232</td>\n",
              "      <td>8153</td>\n",
              "      <td>0</td>\n",
              "      <td>0</td>\n",
              "      <td>0</td>\n",
              "      <td>0</td>\n",
              "      <td>0</td>\n",
              "      <td>1</td>\n",
              "      <td>0</td>\n",
              "      <td>0</td>\n",
              "      <td>0</td>\n",
              "      <td>0</td>\n",
              "      <td>0</td>\n",
              "      <td>0</td>\n",
              "      <td>0</td>\n",
              "      <td>0</td>\n",
              "      <td>0</td>\n",
              "      <td>0</td>\n",
              "      <td>5</td>\n",
              "      <td>5</td>\n",
              "      <td>0.2</td>\n",
              "      <td>0.2</td>\n",
              "      <td>0.0</td>\n",
              "      <td>0.0</td>\n",
              "      <td>1.00</td>\n",
              "      <td>0.00</td>\n",
              "      <td>0.00</td>\n",
              "      <td>30</td>\n",
              "      <td>255</td>\n",
              "      <td>1.00</td>\n",
              "      <td>0.00</td>\n",
              "      <td>0.03</td>\n",
              "      <td>0.04</td>\n",
              "      <td>0.03</td>\n",
              "      <td>0.01</td>\n",
              "      <td>0.00</td>\n",
              "      <td>0.01</td>\n",
              "      <td>normal</td>\n",
              "      <td>21</td>\n",
              "      <td>normal</td>\n",
              "    </tr>\n",
              "    <tr>\n",
              "      <th>4</th>\n",
              "      <td>0</td>\n",
              "      <td>tcp</td>\n",
              "      <td>http</td>\n",
              "      <td>SF</td>\n",
              "      <td>199</td>\n",
              "      <td>420</td>\n",
              "      <td>0</td>\n",
              "      <td>0</td>\n",
              "      <td>0</td>\n",
              "      <td>0</td>\n",
              "      <td>0</td>\n",
              "      <td>1</td>\n",
              "      <td>0</td>\n",
              "      <td>0</td>\n",
              "      <td>0</td>\n",
              "      <td>0</td>\n",
              "      <td>0</td>\n",
              "      <td>0</td>\n",
              "      <td>0</td>\n",
              "      <td>0</td>\n",
              "      <td>0</td>\n",
              "      <td>0</td>\n",
              "      <td>30</td>\n",
              "      <td>32</td>\n",
              "      <td>0.0</td>\n",
              "      <td>0.0</td>\n",
              "      <td>0.0</td>\n",
              "      <td>0.0</td>\n",
              "      <td>1.00</td>\n",
              "      <td>0.00</td>\n",
              "      <td>0.09</td>\n",
              "      <td>255</td>\n",
              "      <td>255</td>\n",
              "      <td>1.00</td>\n",
              "      <td>0.00</td>\n",
              "      <td>0.00</td>\n",
              "      <td>0.00</td>\n",
              "      <td>0.00</td>\n",
              "      <td>0.00</td>\n",
              "      <td>0.00</td>\n",
              "      <td>0.00</td>\n",
              "      <td>normal</td>\n",
              "      <td>21</td>\n",
              "      <td>normal</td>\n",
              "    </tr>\n",
              "  </tbody>\n",
              "</table>\n",
              "</div>\n",
              "      <button class=\"colab-df-convert\" onclick=\"convertToInteractive('df-41540ab4-efd2-42c8-aad9-1c323f46b74a')\"\n",
              "              title=\"Convert this dataframe to an interactive table.\"\n",
              "              style=\"display:none;\">\n",
              "        \n",
              "  <svg xmlns=\"http://www.w3.org/2000/svg\" height=\"24px\"viewBox=\"0 0 24 24\"\n",
              "       width=\"24px\">\n",
              "    <path d=\"M0 0h24v24H0V0z\" fill=\"none\"/>\n",
              "    <path d=\"M18.56 5.44l.94 2.06.94-2.06 2.06-.94-2.06-.94-.94-2.06-.94 2.06-2.06.94zm-11 1L8.5 8.5l.94-2.06 2.06-.94-2.06-.94L8.5 2.5l-.94 2.06-2.06.94zm10 10l.94 2.06.94-2.06 2.06-.94-2.06-.94-.94-2.06-.94 2.06-2.06.94z\"/><path d=\"M17.41 7.96l-1.37-1.37c-.4-.4-.92-.59-1.43-.59-.52 0-1.04.2-1.43.59L10.3 9.45l-7.72 7.72c-.78.78-.78 2.05 0 2.83L4 21.41c.39.39.9.59 1.41.59.51 0 1.02-.2 1.41-.59l7.78-7.78 2.81-2.81c.8-.78.8-2.07 0-2.86zM5.41 20L4 18.59l7.72-7.72 1.47 1.35L5.41 20z\"/>\n",
              "  </svg>\n",
              "      </button>\n",
              "      \n",
              "  <style>\n",
              "    .colab-df-container {\n",
              "      display:flex;\n",
              "      flex-wrap:wrap;\n",
              "      gap: 12px;\n",
              "    }\n",
              "\n",
              "    .colab-df-convert {\n",
              "      background-color: #E8F0FE;\n",
              "      border: none;\n",
              "      border-radius: 50%;\n",
              "      cursor: pointer;\n",
              "      display: none;\n",
              "      fill: #1967D2;\n",
              "      height: 32px;\n",
              "      padding: 0 0 0 0;\n",
              "      width: 32px;\n",
              "    }\n",
              "\n",
              "    .colab-df-convert:hover {\n",
              "      background-color: #E2EBFA;\n",
              "      box-shadow: 0px 1px 2px rgba(60, 64, 67, 0.3), 0px 1px 3px 1px rgba(60, 64, 67, 0.15);\n",
              "      fill: #174EA6;\n",
              "    }\n",
              "\n",
              "    [theme=dark] .colab-df-convert {\n",
              "      background-color: #3B4455;\n",
              "      fill: #D2E3FC;\n",
              "    }\n",
              "\n",
              "    [theme=dark] .colab-df-convert:hover {\n",
              "      background-color: #434B5C;\n",
              "      box-shadow: 0px 1px 3px 1px rgba(0, 0, 0, 0.15);\n",
              "      filter: drop-shadow(0px 1px 2px rgba(0, 0, 0, 0.3));\n",
              "      fill: #FFFFFF;\n",
              "    }\n",
              "  </style>\n",
              "\n",
              "      <script>\n",
              "        const buttonEl =\n",
              "          document.querySelector('#df-41540ab4-efd2-42c8-aad9-1c323f46b74a button.colab-df-convert');\n",
              "        buttonEl.style.display =\n",
              "          google.colab.kernel.accessAllowed ? 'block' : 'none';\n",
              "\n",
              "        async function convertToInteractive(key) {\n",
              "          const element = document.querySelector('#df-41540ab4-efd2-42c8-aad9-1c323f46b74a');\n",
              "          const dataTable =\n",
              "            await google.colab.kernel.invokeFunction('convertToInteractive',\n",
              "                                                     [key], {});\n",
              "          if (!dataTable) return;\n",
              "\n",
              "          const docLinkHtml = 'Like what you see? Visit the ' +\n",
              "            '<a target=\"_blank\" href=https://colab.research.google.com/notebooks/data_table.ipynb>data table notebook</a>'\n",
              "            + ' to learn more about interactive tables.';\n",
              "          element.innerHTML = '';\n",
              "          dataTable['output_type'] = 'display_data';\n",
              "          await google.colab.output.renderOutput(dataTable, element);\n",
              "          const docLink = document.createElement('div');\n",
              "          docLink.innerHTML = docLinkHtml;\n",
              "          element.appendChild(docLink);\n",
              "        }\n",
              "      </script>\n",
              "    </div>\n",
              "  </div>\n",
              "  "
            ],
            "text/plain": [
              "   duration protocol_type  ... successfulPredictions attack_class\n",
              "0         0           tcp  ...                    20       normal\n",
              "1         0           udp  ...                    15       normal\n",
              "2         0           tcp  ...                    19          dos\n",
              "3         0           tcp  ...                    21       normal\n",
              "4         0           tcp  ...                    21       normal\n",
              "\n",
              "[5 rows x 44 columns]"
            ]
          },
          "metadata": {},
          "execution_count": 46
        }
      ]
    },
    {
      "cell_type": "markdown",
      "source": [
        "--------------------------------"
      ],
      "metadata": {
        "id": "IENUTKsrhGDR"
      }
    },
    {
      "cell_type": "markdown",
      "source": [
        "1. Data statistic\n",
        "\n"
      ],
      "metadata": {
        "id": "O_U_hOsKhJMK"
      }
    },
    {
      "cell_type": "code",
      "source": [
        "#General shape of the sataset by rows, cols\n",
        "kdd99_20p_df.shape"
      ],
      "metadata": {
        "colab": {
          "base_uri": "https://localhost:8080/"
        },
        "id": "TkfDJ29A4wWD",
        "outputId": "0ba3f062-db73-4f80-ea74-06258d171d4e"
      },
      "execution_count": 47,
      "outputs": [
        {
          "output_type": "execute_result",
          "data": {
            "text/plain": [
              "(25192, 44)"
            ]
          },
          "metadata": {},
          "execution_count": 47
        }
      ]
    },
    {
      "cell_type": "code",
      "source": [
        "#Descriptive statistics for all numerical columns in dataset\n",
        "kdd99_20p_df.describe()"
      ],
      "metadata": {
        "colab": {
          "base_uri": "https://localhost:8080/",
          "height": 364
        },
        "id": "76jCvV-V4yWb",
        "outputId": "db2b72d1-d6f1-4b2b-b38c-74efeef0f3d4"
      },
      "execution_count": 48,
      "outputs": [
        {
          "output_type": "execute_result",
          "data": {
            "text/html": [
              "\n",
              "  <div id=\"df-e595f45a-5ba0-41a4-862a-789d4b483537\">\n",
              "    <div class=\"colab-df-container\">\n",
              "      <div>\n",
              "<style scoped>\n",
              "    .dataframe tbody tr th:only-of-type {\n",
              "        vertical-align: middle;\n",
              "    }\n",
              "\n",
              "    .dataframe tbody tr th {\n",
              "        vertical-align: top;\n",
              "    }\n",
              "\n",
              "    .dataframe thead th {\n",
              "        text-align: right;\n",
              "    }\n",
              "</style>\n",
              "<table border=\"1\" class=\"dataframe\">\n",
              "  <thead>\n",
              "    <tr style=\"text-align: right;\">\n",
              "      <th></th>\n",
              "      <th>duration</th>\n",
              "      <th>src_bytes</th>\n",
              "      <th>dst_bytes</th>\n",
              "      <th>land</th>\n",
              "      <th>wrong_fragment</th>\n",
              "      <th>urgent</th>\n",
              "      <th>hot</th>\n",
              "      <th>num_failed_logins</th>\n",
              "      <th>logged_in</th>\n",
              "      <th>num_compromised</th>\n",
              "      <th>root_shell</th>\n",
              "      <th>su_attempted</th>\n",
              "      <th>num_root</th>\n",
              "      <th>num_file_creations</th>\n",
              "      <th>num_shells</th>\n",
              "      <th>num_access_files</th>\n",
              "      <th>num_outbound_cmds</th>\n",
              "      <th>is_host_login</th>\n",
              "      <th>is_guest_login</th>\n",
              "      <th>count</th>\n",
              "      <th>srv_count</th>\n",
              "      <th>serror_rate</th>\n",
              "      <th>srv_serror_rate</th>\n",
              "      <th>rerror_rate</th>\n",
              "      <th>srv_rerror_rate</th>\n",
              "      <th>same_srv_rate</th>\n",
              "      <th>diff_srv_rate</th>\n",
              "      <th>srv_diff_host_rate</th>\n",
              "      <th>dst_host_count</th>\n",
              "      <th>dst_host_srv_count</th>\n",
              "      <th>dst_host_same_srv_rate</th>\n",
              "      <th>dst_host_diff_srv_rate</th>\n",
              "      <th>dst_host_same_src_port_rate</th>\n",
              "      <th>dst_host_srv_diff_host_rate</th>\n",
              "      <th>dst_host_serror_rate</th>\n",
              "      <th>dst_host_srv_serror_rate</th>\n",
              "      <th>dst_host_rerror_rate</th>\n",
              "      <th>dst_host_srv_rerror_rate</th>\n",
              "      <th>successfulPredictions</th>\n",
              "    </tr>\n",
              "  </thead>\n",
              "  <tbody>\n",
              "    <tr>\n",
              "      <th>count</th>\n",
              "      <td>25192.000000</td>\n",
              "      <td>2.519200e+04</td>\n",
              "      <td>2.519200e+04</td>\n",
              "      <td>25192.000000</td>\n",
              "      <td>25192.000000</td>\n",
              "      <td>25192.00000</td>\n",
              "      <td>25192.000000</td>\n",
              "      <td>25192.000000</td>\n",
              "      <td>25192.000000</td>\n",
              "      <td>25192.000000</td>\n",
              "      <td>25192.000000</td>\n",
              "      <td>25192.000000</td>\n",
              "      <td>25192.000000</td>\n",
              "      <td>25192.000000</td>\n",
              "      <td>25192.000000</td>\n",
              "      <td>25192.000000</td>\n",
              "      <td>25192.0</td>\n",
              "      <td>25192.0</td>\n",
              "      <td>25192.000000</td>\n",
              "      <td>25192.000000</td>\n",
              "      <td>25192.000000</td>\n",
              "      <td>25192.000000</td>\n",
              "      <td>25192.000000</td>\n",
              "      <td>25192.000000</td>\n",
              "      <td>25192.000000</td>\n",
              "      <td>25192.000000</td>\n",
              "      <td>25192.000000</td>\n",
              "      <td>25192.000000</td>\n",
              "      <td>25192.000000</td>\n",
              "      <td>25192.000000</td>\n",
              "      <td>25192.000000</td>\n",
              "      <td>25192.000000</td>\n",
              "      <td>25192.000000</td>\n",
              "      <td>25192.000000</td>\n",
              "      <td>25192.000000</td>\n",
              "      <td>25192.000000</td>\n",
              "      <td>25192.000000</td>\n",
              "      <td>25192.000000</td>\n",
              "      <td>25192.000000</td>\n",
              "    </tr>\n",
              "    <tr>\n",
              "      <th>mean</th>\n",
              "      <td>305.054104</td>\n",
              "      <td>2.433063e+04</td>\n",
              "      <td>3.491847e+03</td>\n",
              "      <td>0.000079</td>\n",
              "      <td>0.023738</td>\n",
              "      <td>0.00004</td>\n",
              "      <td>0.198039</td>\n",
              "      <td>0.001191</td>\n",
              "      <td>0.394768</td>\n",
              "      <td>0.227850</td>\n",
              "      <td>0.001548</td>\n",
              "      <td>0.001350</td>\n",
              "      <td>0.249841</td>\n",
              "      <td>0.014727</td>\n",
              "      <td>0.000357</td>\n",
              "      <td>0.004327</td>\n",
              "      <td>0.0</td>\n",
              "      <td>0.0</td>\n",
              "      <td>0.009130</td>\n",
              "      <td>84.591180</td>\n",
              "      <td>27.698754</td>\n",
              "      <td>0.286338</td>\n",
              "      <td>0.283762</td>\n",
              "      <td>0.118630</td>\n",
              "      <td>0.120260</td>\n",
              "      <td>0.660559</td>\n",
              "      <td>0.062363</td>\n",
              "      <td>0.095931</td>\n",
              "      <td>182.532074</td>\n",
              "      <td>115.063036</td>\n",
              "      <td>0.519791</td>\n",
              "      <td>0.082539</td>\n",
              "      <td>0.147453</td>\n",
              "      <td>0.031844</td>\n",
              "      <td>0.285800</td>\n",
              "      <td>0.279846</td>\n",
              "      <td>0.117800</td>\n",
              "      <td>0.118769</td>\n",
              "      <td>19.487695</td>\n",
              "    </tr>\n",
              "    <tr>\n",
              "      <th>std</th>\n",
              "      <td>2686.555640</td>\n",
              "      <td>2.410805e+06</td>\n",
              "      <td>8.883072e+04</td>\n",
              "      <td>0.008910</td>\n",
              "      <td>0.260221</td>\n",
              "      <td>0.00630</td>\n",
              "      <td>2.154202</td>\n",
              "      <td>0.045418</td>\n",
              "      <td>0.488811</td>\n",
              "      <td>10.417352</td>\n",
              "      <td>0.039316</td>\n",
              "      <td>0.048785</td>\n",
              "      <td>11.500842</td>\n",
              "      <td>0.529602</td>\n",
              "      <td>0.018898</td>\n",
              "      <td>0.098524</td>\n",
              "      <td>0.0</td>\n",
              "      <td>0.0</td>\n",
              "      <td>0.095115</td>\n",
              "      <td>114.673451</td>\n",
              "      <td>72.468242</td>\n",
              "      <td>0.447312</td>\n",
              "      <td>0.447599</td>\n",
              "      <td>0.318745</td>\n",
              "      <td>0.322335</td>\n",
              "      <td>0.439637</td>\n",
              "      <td>0.178550</td>\n",
              "      <td>0.256583</td>\n",
              "      <td>98.993895</td>\n",
              "      <td>110.646850</td>\n",
              "      <td>0.448944</td>\n",
              "      <td>0.187191</td>\n",
              "      <td>0.308367</td>\n",
              "      <td>0.110575</td>\n",
              "      <td>0.445316</td>\n",
              "      <td>0.446075</td>\n",
              "      <td>0.305869</td>\n",
              "      <td>0.317333</td>\n",
              "      <td>2.328541</td>\n",
              "    </tr>\n",
              "    <tr>\n",
              "      <th>min</th>\n",
              "      <td>0.000000</td>\n",
              "      <td>0.000000e+00</td>\n",
              "      <td>0.000000e+00</td>\n",
              "      <td>0.000000</td>\n",
              "      <td>0.000000</td>\n",
              "      <td>0.00000</td>\n",
              "      <td>0.000000</td>\n",
              "      <td>0.000000</td>\n",
              "      <td>0.000000</td>\n",
              "      <td>0.000000</td>\n",
              "      <td>0.000000</td>\n",
              "      <td>0.000000</td>\n",
              "      <td>0.000000</td>\n",
              "      <td>0.000000</td>\n",
              "      <td>0.000000</td>\n",
              "      <td>0.000000</td>\n",
              "      <td>0.0</td>\n",
              "      <td>0.0</td>\n",
              "      <td>0.000000</td>\n",
              "      <td>1.000000</td>\n",
              "      <td>1.000000</td>\n",
              "      <td>0.000000</td>\n",
              "      <td>0.000000</td>\n",
              "      <td>0.000000</td>\n",
              "      <td>0.000000</td>\n",
              "      <td>0.000000</td>\n",
              "      <td>0.000000</td>\n",
              "      <td>0.000000</td>\n",
              "      <td>0.000000</td>\n",
              "      <td>0.000000</td>\n",
              "      <td>0.000000</td>\n",
              "      <td>0.000000</td>\n",
              "      <td>0.000000</td>\n",
              "      <td>0.000000</td>\n",
              "      <td>0.000000</td>\n",
              "      <td>0.000000</td>\n",
              "      <td>0.000000</td>\n",
              "      <td>0.000000</td>\n",
              "      <td>0.000000</td>\n",
              "    </tr>\n",
              "    <tr>\n",
              "      <th>25%</th>\n",
              "      <td>0.000000</td>\n",
              "      <td>0.000000e+00</td>\n",
              "      <td>0.000000e+00</td>\n",
              "      <td>0.000000</td>\n",
              "      <td>0.000000</td>\n",
              "      <td>0.00000</td>\n",
              "      <td>0.000000</td>\n",
              "      <td>0.000000</td>\n",
              "      <td>0.000000</td>\n",
              "      <td>0.000000</td>\n",
              "      <td>0.000000</td>\n",
              "      <td>0.000000</td>\n",
              "      <td>0.000000</td>\n",
              "      <td>0.000000</td>\n",
              "      <td>0.000000</td>\n",
              "      <td>0.000000</td>\n",
              "      <td>0.0</td>\n",
              "      <td>0.0</td>\n",
              "      <td>0.000000</td>\n",
              "      <td>2.000000</td>\n",
              "      <td>2.000000</td>\n",
              "      <td>0.000000</td>\n",
              "      <td>0.000000</td>\n",
              "      <td>0.000000</td>\n",
              "      <td>0.000000</td>\n",
              "      <td>0.090000</td>\n",
              "      <td>0.000000</td>\n",
              "      <td>0.000000</td>\n",
              "      <td>84.000000</td>\n",
              "      <td>10.000000</td>\n",
              "      <td>0.050000</td>\n",
              "      <td>0.000000</td>\n",
              "      <td>0.000000</td>\n",
              "      <td>0.000000</td>\n",
              "      <td>0.000000</td>\n",
              "      <td>0.000000</td>\n",
              "      <td>0.000000</td>\n",
              "      <td>0.000000</td>\n",
              "      <td>18.000000</td>\n",
              "    </tr>\n",
              "    <tr>\n",
              "      <th>50%</th>\n",
              "      <td>0.000000</td>\n",
              "      <td>4.400000e+01</td>\n",
              "      <td>0.000000e+00</td>\n",
              "      <td>0.000000</td>\n",
              "      <td>0.000000</td>\n",
              "      <td>0.00000</td>\n",
              "      <td>0.000000</td>\n",
              "      <td>0.000000</td>\n",
              "      <td>0.000000</td>\n",
              "      <td>0.000000</td>\n",
              "      <td>0.000000</td>\n",
              "      <td>0.000000</td>\n",
              "      <td>0.000000</td>\n",
              "      <td>0.000000</td>\n",
              "      <td>0.000000</td>\n",
              "      <td>0.000000</td>\n",
              "      <td>0.0</td>\n",
              "      <td>0.0</td>\n",
              "      <td>0.000000</td>\n",
              "      <td>14.000000</td>\n",
              "      <td>8.000000</td>\n",
              "      <td>0.000000</td>\n",
              "      <td>0.000000</td>\n",
              "      <td>0.000000</td>\n",
              "      <td>0.000000</td>\n",
              "      <td>1.000000</td>\n",
              "      <td>0.000000</td>\n",
              "      <td>0.000000</td>\n",
              "      <td>255.000000</td>\n",
              "      <td>61.000000</td>\n",
              "      <td>0.510000</td>\n",
              "      <td>0.030000</td>\n",
              "      <td>0.000000</td>\n",
              "      <td>0.000000</td>\n",
              "      <td>0.000000</td>\n",
              "      <td>0.000000</td>\n",
              "      <td>0.000000</td>\n",
              "      <td>0.000000</td>\n",
              "      <td>20.000000</td>\n",
              "    </tr>\n",
              "    <tr>\n",
              "      <th>75%</th>\n",
              "      <td>0.000000</td>\n",
              "      <td>2.790000e+02</td>\n",
              "      <td>5.302500e+02</td>\n",
              "      <td>0.000000</td>\n",
              "      <td>0.000000</td>\n",
              "      <td>0.00000</td>\n",
              "      <td>0.000000</td>\n",
              "      <td>0.000000</td>\n",
              "      <td>1.000000</td>\n",
              "      <td>0.000000</td>\n",
              "      <td>0.000000</td>\n",
              "      <td>0.000000</td>\n",
              "      <td>0.000000</td>\n",
              "      <td>0.000000</td>\n",
              "      <td>0.000000</td>\n",
              "      <td>0.000000</td>\n",
              "      <td>0.0</td>\n",
              "      <td>0.0</td>\n",
              "      <td>0.000000</td>\n",
              "      <td>144.000000</td>\n",
              "      <td>18.000000</td>\n",
              "      <td>1.000000</td>\n",
              "      <td>1.000000</td>\n",
              "      <td>0.000000</td>\n",
              "      <td>0.000000</td>\n",
              "      <td>1.000000</td>\n",
              "      <td>0.060000</td>\n",
              "      <td>0.000000</td>\n",
              "      <td>255.000000</td>\n",
              "      <td>255.000000</td>\n",
              "      <td>1.000000</td>\n",
              "      <td>0.070000</td>\n",
              "      <td>0.060000</td>\n",
              "      <td>0.020000</td>\n",
              "      <td>1.000000</td>\n",
              "      <td>1.000000</td>\n",
              "      <td>0.000000</td>\n",
              "      <td>0.000000</td>\n",
              "      <td>21.000000</td>\n",
              "    </tr>\n",
              "    <tr>\n",
              "      <th>max</th>\n",
              "      <td>42862.000000</td>\n",
              "      <td>3.817091e+08</td>\n",
              "      <td>5.151385e+06</td>\n",
              "      <td>1.000000</td>\n",
              "      <td>3.000000</td>\n",
              "      <td>1.00000</td>\n",
              "      <td>77.000000</td>\n",
              "      <td>4.000000</td>\n",
              "      <td>1.000000</td>\n",
              "      <td>884.000000</td>\n",
              "      <td>1.000000</td>\n",
              "      <td>2.000000</td>\n",
              "      <td>975.000000</td>\n",
              "      <td>40.000000</td>\n",
              "      <td>1.000000</td>\n",
              "      <td>8.000000</td>\n",
              "      <td>0.0</td>\n",
              "      <td>0.0</td>\n",
              "      <td>1.000000</td>\n",
              "      <td>511.000000</td>\n",
              "      <td>511.000000</td>\n",
              "      <td>1.000000</td>\n",
              "      <td>1.000000</td>\n",
              "      <td>1.000000</td>\n",
              "      <td>1.000000</td>\n",
              "      <td>1.000000</td>\n",
              "      <td>1.000000</td>\n",
              "      <td>1.000000</td>\n",
              "      <td>255.000000</td>\n",
              "      <td>255.000000</td>\n",
              "      <td>1.000000</td>\n",
              "      <td>1.000000</td>\n",
              "      <td>1.000000</td>\n",
              "      <td>1.000000</td>\n",
              "      <td>1.000000</td>\n",
              "      <td>1.000000</td>\n",
              "      <td>1.000000</td>\n",
              "      <td>1.000000</td>\n",
              "      <td>21.000000</td>\n",
              "    </tr>\n",
              "  </tbody>\n",
              "</table>\n",
              "</div>\n",
              "      <button class=\"colab-df-convert\" onclick=\"convertToInteractive('df-e595f45a-5ba0-41a4-862a-789d4b483537')\"\n",
              "              title=\"Convert this dataframe to an interactive table.\"\n",
              "              style=\"display:none;\">\n",
              "        \n",
              "  <svg xmlns=\"http://www.w3.org/2000/svg\" height=\"24px\"viewBox=\"0 0 24 24\"\n",
              "       width=\"24px\">\n",
              "    <path d=\"M0 0h24v24H0V0z\" fill=\"none\"/>\n",
              "    <path d=\"M18.56 5.44l.94 2.06.94-2.06 2.06-.94-2.06-.94-.94-2.06-.94 2.06-2.06.94zm-11 1L8.5 8.5l.94-2.06 2.06-.94-2.06-.94L8.5 2.5l-.94 2.06-2.06.94zm10 10l.94 2.06.94-2.06 2.06-.94-2.06-.94-.94-2.06-.94 2.06-2.06.94z\"/><path d=\"M17.41 7.96l-1.37-1.37c-.4-.4-.92-.59-1.43-.59-.52 0-1.04.2-1.43.59L10.3 9.45l-7.72 7.72c-.78.78-.78 2.05 0 2.83L4 21.41c.39.39.9.59 1.41.59.51 0 1.02-.2 1.41-.59l7.78-7.78 2.81-2.81c.8-.78.8-2.07 0-2.86zM5.41 20L4 18.59l7.72-7.72 1.47 1.35L5.41 20z\"/>\n",
              "  </svg>\n",
              "      </button>\n",
              "      \n",
              "  <style>\n",
              "    .colab-df-container {\n",
              "      display:flex;\n",
              "      flex-wrap:wrap;\n",
              "      gap: 12px;\n",
              "    }\n",
              "\n",
              "    .colab-df-convert {\n",
              "      background-color: #E8F0FE;\n",
              "      border: none;\n",
              "      border-radius: 50%;\n",
              "      cursor: pointer;\n",
              "      display: none;\n",
              "      fill: #1967D2;\n",
              "      height: 32px;\n",
              "      padding: 0 0 0 0;\n",
              "      width: 32px;\n",
              "    }\n",
              "\n",
              "    .colab-df-convert:hover {\n",
              "      background-color: #E2EBFA;\n",
              "      box-shadow: 0px 1px 2px rgba(60, 64, 67, 0.3), 0px 1px 3px 1px rgba(60, 64, 67, 0.15);\n",
              "      fill: #174EA6;\n",
              "    }\n",
              "\n",
              "    [theme=dark] .colab-df-convert {\n",
              "      background-color: #3B4455;\n",
              "      fill: #D2E3FC;\n",
              "    }\n",
              "\n",
              "    [theme=dark] .colab-df-convert:hover {\n",
              "      background-color: #434B5C;\n",
              "      box-shadow: 0px 1px 3px 1px rgba(0, 0, 0, 0.15);\n",
              "      filter: drop-shadow(0px 1px 2px rgba(0, 0, 0, 0.3));\n",
              "      fill: #FFFFFF;\n",
              "    }\n",
              "  </style>\n",
              "\n",
              "      <script>\n",
              "        const buttonEl =\n",
              "          document.querySelector('#df-e595f45a-5ba0-41a4-862a-789d4b483537 button.colab-df-convert');\n",
              "        buttonEl.style.display =\n",
              "          google.colab.kernel.accessAllowed ? 'block' : 'none';\n",
              "\n",
              "        async function convertToInteractive(key) {\n",
              "          const element = document.querySelector('#df-e595f45a-5ba0-41a4-862a-789d4b483537');\n",
              "          const dataTable =\n",
              "            await google.colab.kernel.invokeFunction('convertToInteractive',\n",
              "                                                     [key], {});\n",
              "          if (!dataTable) return;\n",
              "\n",
              "          const docLinkHtml = 'Like what you see? Visit the ' +\n",
              "            '<a target=\"_blank\" href=https://colab.research.google.com/notebooks/data_table.ipynb>data table notebook</a>'\n",
              "            + ' to learn more about interactive tables.';\n",
              "          element.innerHTML = '';\n",
              "          dataTable['output_type'] = 'display_data';\n",
              "          await google.colab.output.renderOutput(dataTable, element);\n",
              "          const docLink = document.createElement('div');\n",
              "          docLink.innerHTML = docLinkHtml;\n",
              "          element.appendChild(docLink);\n",
              "        }\n",
              "      </script>\n",
              "    </div>\n",
              "  </div>\n",
              "  "
            ],
            "text/plain": [
              "           duration  ...  successfulPredictions\n",
              "count  25192.000000  ...           25192.000000\n",
              "mean     305.054104  ...              19.487695\n",
              "std     2686.555640  ...               2.328541\n",
              "min        0.000000  ...               0.000000\n",
              "25%        0.000000  ...              18.000000\n",
              "50%        0.000000  ...              20.000000\n",
              "75%        0.000000  ...              21.000000\n",
              "max    42862.000000  ...              21.000000\n",
              "\n",
              "[8 rows x 39 columns]"
            ]
          },
          "metadata": {},
          "execution_count": 48
        }
      ]
    },
    {
      "cell_type": "code",
      "source": [
        "#Description of categorical variables\n",
        "#Refreshing chart showing some of the variables are investigated further with two charts showing the distributions for the attack types \n",
        "kdd99_20p_df.describe(include=['object'])"
      ],
      "metadata": {
        "colab": {
          "base_uri": "https://localhost:8080/",
          "height": 175
        },
        "id": "87orcA2-40nm",
        "outputId": "81ff9151-e834-402a-acd4-a283df15aeff"
      },
      "execution_count": 49,
      "outputs": [
        {
          "output_type": "execute_result",
          "data": {
            "text/html": [
              "\n",
              "  <div id=\"df-c29f44f8-bffb-4a05-815b-c7d9ba748d0f\">\n",
              "    <div class=\"colab-df-container\">\n",
              "      <div>\n",
              "<style scoped>\n",
              "    .dataframe tbody tr th:only-of-type {\n",
              "        vertical-align: middle;\n",
              "    }\n",
              "\n",
              "    .dataframe tbody tr th {\n",
              "        vertical-align: top;\n",
              "    }\n",
              "\n",
              "    .dataframe thead th {\n",
              "        text-align: right;\n",
              "    }\n",
              "</style>\n",
              "<table border=\"1\" class=\"dataframe\">\n",
              "  <thead>\n",
              "    <tr style=\"text-align: right;\">\n",
              "      <th></th>\n",
              "      <th>protocol_type</th>\n",
              "      <th>service</th>\n",
              "      <th>flag</th>\n",
              "      <th>attack_type</th>\n",
              "      <th>attack_class</th>\n",
              "    </tr>\n",
              "  </thead>\n",
              "  <tbody>\n",
              "    <tr>\n",
              "      <th>count</th>\n",
              "      <td>25192</td>\n",
              "      <td>25192</td>\n",
              "      <td>25192</td>\n",
              "      <td>25192</td>\n",
              "      <td>25192</td>\n",
              "    </tr>\n",
              "    <tr>\n",
              "      <th>unique</th>\n",
              "      <td>3</td>\n",
              "      <td>66</td>\n",
              "      <td>11</td>\n",
              "      <td>22</td>\n",
              "      <td>5</td>\n",
              "    </tr>\n",
              "    <tr>\n",
              "      <th>top</th>\n",
              "      <td>tcp</td>\n",
              "      <td>http</td>\n",
              "      <td>SF</td>\n",
              "      <td>normal</td>\n",
              "      <td>normal</td>\n",
              "    </tr>\n",
              "    <tr>\n",
              "      <th>freq</th>\n",
              "      <td>20526</td>\n",
              "      <td>8003</td>\n",
              "      <td>14973</td>\n",
              "      <td>13449</td>\n",
              "      <td>13449</td>\n",
              "    </tr>\n",
              "  </tbody>\n",
              "</table>\n",
              "</div>\n",
              "      <button class=\"colab-df-convert\" onclick=\"convertToInteractive('df-c29f44f8-bffb-4a05-815b-c7d9ba748d0f')\"\n",
              "              title=\"Convert this dataframe to an interactive table.\"\n",
              "              style=\"display:none;\">\n",
              "        \n",
              "  <svg xmlns=\"http://www.w3.org/2000/svg\" height=\"24px\"viewBox=\"0 0 24 24\"\n",
              "       width=\"24px\">\n",
              "    <path d=\"M0 0h24v24H0V0z\" fill=\"none\"/>\n",
              "    <path d=\"M18.56 5.44l.94 2.06.94-2.06 2.06-.94-2.06-.94-.94-2.06-.94 2.06-2.06.94zm-11 1L8.5 8.5l.94-2.06 2.06-.94-2.06-.94L8.5 2.5l-.94 2.06-2.06.94zm10 10l.94 2.06.94-2.06 2.06-.94-2.06-.94-.94-2.06-.94 2.06-2.06.94z\"/><path d=\"M17.41 7.96l-1.37-1.37c-.4-.4-.92-.59-1.43-.59-.52 0-1.04.2-1.43.59L10.3 9.45l-7.72 7.72c-.78.78-.78 2.05 0 2.83L4 21.41c.39.39.9.59 1.41.59.51 0 1.02-.2 1.41-.59l7.78-7.78 2.81-2.81c.8-.78.8-2.07 0-2.86zM5.41 20L4 18.59l7.72-7.72 1.47 1.35L5.41 20z\"/>\n",
              "  </svg>\n",
              "      </button>\n",
              "      \n",
              "  <style>\n",
              "    .colab-df-container {\n",
              "      display:flex;\n",
              "      flex-wrap:wrap;\n",
              "      gap: 12px;\n",
              "    }\n",
              "\n",
              "    .colab-df-convert {\n",
              "      background-color: #E8F0FE;\n",
              "      border: none;\n",
              "      border-radius: 50%;\n",
              "      cursor: pointer;\n",
              "      display: none;\n",
              "      fill: #1967D2;\n",
              "      height: 32px;\n",
              "      padding: 0 0 0 0;\n",
              "      width: 32px;\n",
              "    }\n",
              "\n",
              "    .colab-df-convert:hover {\n",
              "      background-color: #E2EBFA;\n",
              "      box-shadow: 0px 1px 2px rgba(60, 64, 67, 0.3), 0px 1px 3px 1px rgba(60, 64, 67, 0.15);\n",
              "      fill: #174EA6;\n",
              "    }\n",
              "\n",
              "    [theme=dark] .colab-df-convert {\n",
              "      background-color: #3B4455;\n",
              "      fill: #D2E3FC;\n",
              "    }\n",
              "\n",
              "    [theme=dark] .colab-df-convert:hover {\n",
              "      background-color: #434B5C;\n",
              "      box-shadow: 0px 1px 3px 1px rgba(0, 0, 0, 0.15);\n",
              "      filter: drop-shadow(0px 1px 2px rgba(0, 0, 0, 0.3));\n",
              "      fill: #FFFFFF;\n",
              "    }\n",
              "  </style>\n",
              "\n",
              "      <script>\n",
              "        const buttonEl =\n",
              "          document.querySelector('#df-c29f44f8-bffb-4a05-815b-c7d9ba748d0f button.colab-df-convert');\n",
              "        buttonEl.style.display =\n",
              "          google.colab.kernel.accessAllowed ? 'block' : 'none';\n",
              "\n",
              "        async function convertToInteractive(key) {\n",
              "          const element = document.querySelector('#df-c29f44f8-bffb-4a05-815b-c7d9ba748d0f');\n",
              "          const dataTable =\n",
              "            await google.colab.kernel.invokeFunction('convertToInteractive',\n",
              "                                                     [key], {});\n",
              "          if (!dataTable) return;\n",
              "\n",
              "          const docLinkHtml = 'Like what you see? Visit the ' +\n",
              "            '<a target=\"_blank\" href=https://colab.research.google.com/notebooks/data_table.ipynb>data table notebook</a>'\n",
              "            + ' to learn more about interactive tables.';\n",
              "          element.innerHTML = '';\n",
              "          dataTable['output_type'] = 'display_data';\n",
              "          await google.colab.output.renderOutput(dataTable, element);\n",
              "          const docLink = document.createElement('div');\n",
              "          docLink.innerHTML = docLinkHtml;\n",
              "          element.appendChild(docLink);\n",
              "        }\n",
              "      </script>\n",
              "    </div>\n",
              "  </div>\n",
              "  "
            ],
            "text/plain": [
              "       protocol_type service   flag attack_type attack_class\n",
              "count          25192   25192  25192       25192        25192\n",
              "unique             3      66     11          22            5\n",
              "top              tcp    http     SF      normal       normal\n",
              "freq           20526    8003  14973       13449        13449"
            ]
          },
          "metadata": {},
          "execution_count": 49
        }
      ]
    },
    {
      "cell_type": "code",
      "source": [
        "#Bar graph of attack type\n",
        "#The largest class= normal\n",
        "#The attack type= neptune\n",
        "fig = plt.figure()\n",
        "fig = kdd99_20p_df['attack_type'].value_counts().plot(figsize=(20, 15), kind=\"barh\")\n",
        "plt.show()"
      ],
      "metadata": {
        "colab": {
          "base_uri": "https://localhost:8080/",
          "height": 534
        },
        "id": "zL1LRNBL43A3",
        "outputId": "f5a53b81-e050-4ee8-b81a-90970f128bf0"
      },
      "execution_count": 50,
      "outputs": [
        {
          "output_type": "display_data",
          "data": {
            "image/png": "[encoded data removed]",
            "text/plain": [
              "<Figure size 1440x1080 with 1 Axes>"
            ]
          },
          "metadata": {
            "needs_background": "light"
          }
        }
      ]
    },
    {
      "cell_type": "code",
      "source": [
        "#Bar attack-class classification\n",
        "plt.figure(figsize=(15, 10))\n",
        "kdd99_20p_df['attack_class'].value_counts().plot(kind=\"barh\")\n",
        "plt.show()"
      ],
      "metadata": {
        "colab": {
          "base_uri": "https://localhost:8080/",
          "height": 493
        },
        "id": "QJfAbMJB47Ho",
        "outputId": "63510d64-f21c-499f-e14c-7858b633a9bc"
      },
      "execution_count": 51,
      "outputs": [
        {
          "output_type": "display_data",
          "data": {
            "image/png": "[encoded data removed]",
            "text/plain": [
              "<Figure size 1080x720 with 1 Axes>"
            ]
          },
          "metadata": {
            "needs_background": "light"
          }
        }
      ]
    },
    {
      "cell_type": "code",
      "source": [
        "#Pairwise correlation for float point type values\n",
        "#Convariance between numerical features. \n",
        "corr = kdd99_20p_df.loc[:,kdd99_20p_df.dtypes == 'float64'].corr()\n",
        "\n",
        "plt.figure(figsize = (15,10))\n",
        "sns.heatmap(corr, xticklabels=corr.columns, yticklabels=corr.columns, \n",
        "            cmap=sns.diverging_palette(220, 10, as_cmap=True))"
      ],
      "metadata": {
        "colab": {
          "base_uri": "https://localhost:8080/",
          "height": 603
        },
        "id": "APV0YGsS49nM",
        "outputId": "4b2eb8d2-dd79-4b15-ca1b-b7328b795a55"
      },
      "execution_count": 52,
      "outputs": [
        {
          "output_type": "execute_result",
          "data": {
            "text/plain": [
              "<matplotlib.axes._subplots.AxesSubplot at 0x7fd9c0f2fb90>"
            ]
          },
          "metadata": {},
          "execution_count": 52
        },
        {
          "output_type": "display_data",
          "data": {
            "image/png": "[encoded data removed]",
            "text/plain": [
              "<Figure size 1080x720 with 2 Axes>"
            ]
          },
          "metadata": {
            "needs_background": "light"
          }
        }
      ]
    },
    {
      "cell_type": "markdown",
      "source": [
        "2. Engineering Data"
      ],
      "metadata": {
        "id": "CUz1IBXDlDRd"
      }
    },
    {
      "cell_type": "code",
      "source": [
        "#Binary classification of dataset\n",
        "#Dataset was further classified into binary types of attack or not attack (normal). This column was appeded to DataFrame\n",
        "kdd99_20p_df['attack_biclass'] = kdd99_20p_df.apply(\n",
        "    lambda x: 'normal' if x['attack_type'] == 'normal' else 'attack', \n",
        "    axis=1)"
      ],
      "metadata": {
        "id": "blpTJgSo5EoL"
      },
      "execution_count": 53,
      "outputs": []
    },
    {
      "cell_type": "code",
      "source": [
        "#Remove highly correlated features because make unctable decisions trees.\n",
        "kdd99_20p_dropped = kdd99_20p_df.drop(['srv_serror_rate', 'dst_host_serror_rate', 'dst_host_srv_serror_rate'], axis=1)\n",
        "kdd99_20p_dropped = kdd99_20p_dropped.drop(['attack_type', 'attack_biclass', 'successfulPredictions'], axis=1)"
      ],
      "metadata": {
        "id": "AqcgizaS5I4X"
      },
      "execution_count": 54,
      "outputs": []
    },
    {
      "cell_type": "markdown",
      "source": [
        "3. Data sampling"
      ],
      "metadata": {
        "id": "c-pqEZuAqkU_"
      }
    },
    {
      "cell_type": "code",
      "source": [
        "#Three sample: Random Sample, Uniform Distribution, Tree Sample\n",
        "#Each sample contains 400 elements\n",
        "n_sample = 400\n",
        "random_sample = kdd99_20p_dropped.sample(n_sample)\n",
        "uniform_sample = kdd99_20p_dropped.groupby('attack_class', group_keys=False)\\\n",
        "                                  .apply(lambda x: x.sample(int(n_sample/4), replace=True))\n",
        "test_sample = kdd99_20p_dropped.sample(n_sample)"
      ],
      "metadata": {
        "id": "FLNLMO1F5K3H"
      },
      "execution_count": 55,
      "outputs": []
    },
    {
      "cell_type": "code",
      "source": [
        "#Randome sample attack classes\n",
        "random_sample.attack_class.value_counts()"
      ],
      "metadata": {
        "colab": {
          "base_uri": "https://localhost:8080/"
        },
        "id": "DbN3Hfpl5OdM",
        "outputId": "04d04c7a-37e5-46f4-879d-79fcaed5ed81"
      },
      "execution_count": 56,
      "outputs": [
        {
          "output_type": "execute_result",
          "data": {
            "text/plain": [
              "normal    220\n",
              "dos       153\n",
              "probe      25\n",
              "r2l         2\n",
              "Name: attack_class, dtype: int64"
            ]
          },
          "metadata": {},
          "execution_count": 56
        }
      ]
    },
    {
      "cell_type": "code",
      "source": [
        "#Uniform sample attack classes\n",
        "uniform_sample.attack_class.value_counts()"
      ],
      "metadata": {
        "colab": {
          "base_uri": "https://localhost:8080/"
        },
        "id": "inbgohB_5QGH",
        "outputId": "f22574d2-bf46-40dd-a73c-3283c70eadbc"
      },
      "execution_count": 57,
      "outputs": [
        {
          "output_type": "execute_result",
          "data": {
            "text/plain": [
              "probe     100\n",
              "r2l       100\n",
              "dos       100\n",
              "normal    100\n",
              "u2r       100\n",
              "Name: attack_class, dtype: int64"
            ]
          },
          "metadata": {},
          "execution_count": 57
        }
      ]
    },
    {
      "cell_type": "code",
      "source": [
        "#Test sample attack classes\n",
        "test_sample.attack_class.value_counts()"
      ],
      "metadata": {
        "colab": {
          "base_uri": "https://localhost:8080/"
        },
        "id": "fGNcHrT_5R7-",
        "outputId": "06d782c9-b2a6-49dd-a28c-37aa3e6fe390"
      },
      "execution_count": 58,
      "outputs": [
        {
          "output_type": "execute_result",
          "data": {
            "text/plain": [
              "normal    232\n",
              "dos       123\n",
              "probe      44\n",
              "r2l         1\n",
              "Name: attack_class, dtype: int64"
            ]
          },
          "metadata": {},
          "execution_count": 58
        }
      ]
    },
    {
      "cell_type": "markdown",
      "source": [
        "4. Data analysis and results"
      ],
      "metadata": {
        "id": "8T4R8uPzrFUL"
      }
    },
    {
      "cell_type": "code",
      "source": [
        "#Creating decision trees\n",
        "#function was two dataframes and compute decision tree information. \n",
        "\n",
        "from sklearn import metrics #Used to generate and graph decisionn tree\n",
        "\n",
        "def make_tree(train_df, test_df, export_depth=2):\n",
        "  ''' create, plot, score, and retrun tree '''\n",
        "\n",
        "  y_train = random_sample['attack_class']\n",
        "  x_train = random_sample.select_dtypes(exclude='object')\n",
        "\n",
        "  y_test = test_df['attack_class']\n",
        "  x_test = test_df.select_dtypes(exclude='object')\n",
        "\n",
        "  dtc = DecisionTreeClassifier(criterion='entropy', random_state=0, max_depth=16)\n",
        "  dtc.fit(x_train, y_train)\n",
        "\n",
        "  #Confusion matrix printed below the graphical representation of the decision tree\n",
        "  #Confussion matrix allows assessment of our predictor on a class-level\n",
        "  print(f'The test score is {dtc.score(x_test, y_test)}') \n",
        "  plt.figure(figsize=(15,10))\n",
        "  plot_tree(dtc, class_names=dtc.classes_, feature_names=x_train.columns, filled=True, \n",
        "            fontsize=10, max_depth=2, precision=1, label=None, impurity=False)\n",
        "  \n",
        "  cm = metrics.plot_confusion_matrix(dtc, x_test, y_test)\n",
        "  cm.figure_.suptitle(\"Confusion Matrix\")\n",
        "\n",
        "  plt.show()\n",
        "  return export_text(dtc, feature_names=list(x_train.columns), max_depth=export_depth)"
      ],
      "metadata": {
        "id": "-daEaZNC5Vzp"
      },
      "execution_count": 59,
      "outputs": []
    },
    {
      "cell_type": "code",
      "source": [
        "#Decision tree for random sample with confusion matrix\n",
        "random_txt = make_tree(random_sample, test_sample)"
      ],
      "metadata": {
        "colab": {
          "base_uri": "https://localhost:8080/",
          "height": 869
        },
        "id": "J0db3ZkUZdUR",
        "outputId": "61222b52-9423-43be-e7dc-1e2bef94c64a"
      },
      "execution_count": 60,
      "outputs": [
        {
          "output_type": "stream",
          "name": "stdout",
          "text": [
            "The test score is 0.9475\n"
          ]
        },
        {
          "output_type": "stream",
          "name": "stderr",
          "text": [
            "/usr/local/lib/python3.7/dist-packages/sklearn/utils/deprecation.py:87: FutureWarning: Function plot_confusion_matrix is deprecated; Function `plot_confusion_matrix` is deprecated in 1.0 and will be removed in 1.2. Use one of the class methods: ConfusionMatrixDisplay.from_predictions or ConfusionMatrixDisplay.from_estimator.\n",
            "  warnings.warn(msg, category=FutureWarning)\n"
          ]
        },
        {
          "output_type": "display_data",
          "data": {
            "image/png": "[encoded data removed]",
            "text/plain": [
              "<Figure size 1080x720 with 1 Axes>"
            ]
          },
          "metadata": {
            "needs_background": "light"
          }
        },
        {
          "output_type": "display_data",
          "data": {
            "image/png": "[encoded data removed]",
            "text/plain": [
              "<Figure size 432x288 with 2 Axes>"
            ]
          },
          "metadata": {
            "needs_background": "light"
          }
        }
      ]
    },
    {
      "cell_type": "code",
      "source": [
        "#Decision tree for uniform sample with confusion matrix\n",
        "uni_txt = make_tree(uniform_sample, test_sample)"
      ],
      "metadata": {
        "colab": {
          "base_uri": "https://localhost:8080/",
          "height": 869
        },
        "id": "tKpkK5MoZg63",
        "outputId": "13de1548-815b-4c90-c1c0-f88e8bbd8e94"
      },
      "execution_count": 61,
      "outputs": [
        {
          "output_type": "stream",
          "name": "stdout",
          "text": [
            "The test score is 0.9475\n"
          ]
        },
        {
          "output_type": "stream",
          "name": "stderr",
          "text": [
            "/usr/local/lib/python3.7/dist-packages/sklearn/utils/deprecation.py:87: FutureWarning: Function plot_confusion_matrix is deprecated; Function `plot_confusion_matrix` is deprecated in 1.0 and will be removed in 1.2. Use one of the class methods: ConfusionMatrixDisplay.from_predictions or ConfusionMatrixDisplay.from_estimator.\n",
            "  warnings.warn(msg, category=FutureWarning)\n"
          ]
        },
        {
          "output_type": "display_data",
          "data": {
            "image/png": "[encoded data removed]",
            "text/plain": [
              "<Figure size 1080x720 with 1 Axes>"
            ]
          },
          "metadata": {
            "needs_background": "light"
          }
        },
        {
          "output_type": "display_data",
          "data": {
            "image/png": "[encoded data removed]",
            "text/plain": [
              "<Figure size 432x288 with 2 Axes>"
            ]
          },
          "metadata": {
            "needs_background": "light"
          }
        }
      ]
    },
    {
      "cell_type": "markdown",
      "source": [
        "------------------\n"
      ],
      "metadata": {
        "id": "x8miVjVqsynE"
      }
    },
    {
      "cell_type": "markdown",
      "source": [
        "5. Conclusion\n",
        "\n",
        "Table show are not the full from the trees but here is a tree truncated to 2 nodes past root. These two trees are very much alike, identically, and hight-level. \n",
        "\n",
        "\n"
      ],
      "metadata": {
        "id": "BGnDZ1SBs1KJ"
      }
    },
    {
      "cell_type": "code",
      "source": [
        "#Side-by-side comparison of decision trees\n",
        "import difflib #Create side-by-side comparison for two tree\n",
        "from IPython.core.display import display, HTML\n",
        "d = difflib.HtmlDiff().make_table(random_txt.split('\\n'), uni_txt.split('\\n'),\n",
        "                                   fromdesc='Tree1', todesc='Tree2')\n",
        "HTML(d)"
      ],
      "metadata": {
        "colab": {
          "base_uri": "https://localhost:8080/",
          "height": 435
        },
        "id": "gPg3P5bPZoGH",
        "outputId": "f5f4749a-881a-4265-997d-964bf027cde3"
      },
      "execution_count": 62,
      "outputs": [
        {
          "output_type": "execute_result",
          "data": {
            "text/html": [
              "\n",
              "    <table class=\"diff\" id=\"difflib_chg_to1__top\"\n",
              "           cellspacing=\"0\" cellpadding=\"0\" rules=\"groups\" >\n",
              "        <colgroup></colgroup> <colgroup></colgroup> <colgroup></colgroup>\n",
              "        <colgroup></colgroup> <colgroup></colgroup> <colgroup></colgroup>\n",
              "        <thead><tr><th class=\"diff_next\"><br /></th><th colspan=\"2\" class=\"diff_header\">Tree1</th><th class=\"diff_next\"><br /></th><th colspan=\"2\" class=\"diff_header\">Tree2</th></tr></thead>\n",
              "        <tbody>\n",
              "            <tr><td class=\"diff_next\"><a href=\"#difflib_chg_to1__top\">t</a></td><td class=\"diff_header\" id=\"from1_1\">1</td><td nowrap=\"nowrap\">|---&nbsp;src_bytes&nbsp;&lt;=&nbsp;29.00</td><td class=\"diff_next\"><a href=\"#difflib_chg_to1__top\">t</a></td><td class=\"diff_header\" id=\"to1_1\">1</td><td nowrap=\"nowrap\">|---&nbsp;src_bytes&nbsp;&lt;=&nbsp;29.00</td></tr>\n",
              "            <tr><td class=\"diff_next\"></td><td class=\"diff_header\" id=\"from1_2\">2</td><td nowrap=\"nowrap\">|&nbsp;&nbsp;&nbsp;|---&nbsp;count&nbsp;&lt;=&nbsp;10.50</td><td class=\"diff_next\"></td><td class=\"diff_header\" id=\"to1_2\">2</td><td nowrap=\"nowrap\">|&nbsp;&nbsp;&nbsp;|---&nbsp;count&nbsp;&lt;=&nbsp;10.50</td></tr>\n",
              "            <tr><td class=\"diff_next\"></td><td class=\"diff_header\" id=\"from1_3\">3</td><td nowrap=\"nowrap\">|&nbsp;&nbsp;&nbsp;|&nbsp;&nbsp;&nbsp;|---&nbsp;dst_host_same_src_port_rate&nbsp;&lt;=&nbsp;0.88</td><td class=\"diff_next\"></td><td class=\"diff_header\" id=\"to1_3\">3</td><td nowrap=\"nowrap\">|&nbsp;&nbsp;&nbsp;|&nbsp;&nbsp;&nbsp;|---&nbsp;dst_host_same_src_port_rate&nbsp;&lt;=&nbsp;0.88</td></tr>\n",
              "            <tr><td class=\"diff_next\"></td><td class=\"diff_header\" id=\"from1_4\">4</td><td nowrap=\"nowrap\">|&nbsp;&nbsp;&nbsp;|&nbsp;&nbsp;&nbsp;|&nbsp;&nbsp;&nbsp;|---&nbsp;truncated&nbsp;branch&nbsp;of&nbsp;depth&nbsp;4</td><td class=\"diff_next\"></td><td class=\"diff_header\" id=\"to1_4\">4</td><td nowrap=\"nowrap\">|&nbsp;&nbsp;&nbsp;|&nbsp;&nbsp;&nbsp;|&nbsp;&nbsp;&nbsp;|---&nbsp;truncated&nbsp;branch&nbsp;of&nbsp;depth&nbsp;4</td></tr>\n",
              "            <tr><td class=\"diff_next\"></td><td class=\"diff_header\" id=\"from1_5\">5</td><td nowrap=\"nowrap\">|&nbsp;&nbsp;&nbsp;|&nbsp;&nbsp;&nbsp;|---&nbsp;dst_host_same_src_port_rate&nbsp;&gt;&nbsp;&nbsp;0.88</td><td class=\"diff_next\"></td><td class=\"diff_header\" id=\"to1_5\">5</td><td nowrap=\"nowrap\">|&nbsp;&nbsp;&nbsp;|&nbsp;&nbsp;&nbsp;|---&nbsp;dst_host_same_src_port_rate&nbsp;&gt;&nbsp;&nbsp;0.88</td></tr>\n",
              "            <tr><td class=\"diff_next\"></td><td class=\"diff_header\" id=\"from1_6\">6</td><td nowrap=\"nowrap\">|&nbsp;&nbsp;&nbsp;|&nbsp;&nbsp;&nbsp;|&nbsp;&nbsp;&nbsp;|---&nbsp;truncated&nbsp;branch&nbsp;of&nbsp;depth&nbsp;3</td><td class=\"diff_next\"></td><td class=\"diff_header\" id=\"to1_6\">6</td><td nowrap=\"nowrap\">|&nbsp;&nbsp;&nbsp;|&nbsp;&nbsp;&nbsp;|&nbsp;&nbsp;&nbsp;|---&nbsp;truncated&nbsp;branch&nbsp;of&nbsp;depth&nbsp;3</td></tr>\n",
              "            <tr><td class=\"diff_next\"></td><td class=\"diff_header\" id=\"from1_7\">7</td><td nowrap=\"nowrap\">|&nbsp;&nbsp;&nbsp;|---&nbsp;count&nbsp;&gt;&nbsp;&nbsp;10.50</td><td class=\"diff_next\"></td><td class=\"diff_header\" id=\"to1_7\">7</td><td nowrap=\"nowrap\">|&nbsp;&nbsp;&nbsp;|---&nbsp;count&nbsp;&gt;&nbsp;&nbsp;10.50</td></tr>\n",
              "            <tr><td class=\"diff_next\"></td><td class=\"diff_header\" id=\"from1_8\">8</td><td nowrap=\"nowrap\">|&nbsp;&nbsp;&nbsp;|&nbsp;&nbsp;&nbsp;|---&nbsp;dst_host_diff_srv_rate&nbsp;&lt;=&nbsp;0.11</td><td class=\"diff_next\"></td><td class=\"diff_header\" id=\"to1_8\">8</td><td nowrap=\"nowrap\">|&nbsp;&nbsp;&nbsp;|&nbsp;&nbsp;&nbsp;|---&nbsp;dst_host_diff_srv_rate&nbsp;&lt;=&nbsp;0.11</td></tr>\n",
              "            <tr><td class=\"diff_next\"></td><td class=\"diff_header\" id=\"from1_9\">9</td><td nowrap=\"nowrap\">|&nbsp;&nbsp;&nbsp;|&nbsp;&nbsp;&nbsp;|&nbsp;&nbsp;&nbsp;|---&nbsp;truncated&nbsp;branch&nbsp;of&nbsp;depth&nbsp;2</td><td class=\"diff_next\"></td><td class=\"diff_header\" id=\"to1_9\">9</td><td nowrap=\"nowrap\">|&nbsp;&nbsp;&nbsp;|&nbsp;&nbsp;&nbsp;|&nbsp;&nbsp;&nbsp;|---&nbsp;truncated&nbsp;branch&nbsp;of&nbsp;depth&nbsp;2</td></tr>\n",
              "            <tr><td class=\"diff_next\"></td><td class=\"diff_header\" id=\"from1_10\">10</td><td nowrap=\"nowrap\">|&nbsp;&nbsp;&nbsp;|&nbsp;&nbsp;&nbsp;|---&nbsp;dst_host_diff_srv_rate&nbsp;&gt;&nbsp;&nbsp;0.11</td><td class=\"diff_next\"></td><td class=\"diff_header\" id=\"to1_10\">10</td><td nowrap=\"nowrap\">|&nbsp;&nbsp;&nbsp;|&nbsp;&nbsp;&nbsp;|---&nbsp;dst_host_diff_srv_rate&nbsp;&gt;&nbsp;&nbsp;0.11</td></tr>\n",
              "            <tr><td class=\"diff_next\"></td><td class=\"diff_header\" id=\"from1_11\">11</td><td nowrap=\"nowrap\">|&nbsp;&nbsp;&nbsp;|&nbsp;&nbsp;&nbsp;|&nbsp;&nbsp;&nbsp;|---&nbsp;truncated&nbsp;branch&nbsp;of&nbsp;depth&nbsp;2</td><td class=\"diff_next\"></td><td class=\"diff_header\" id=\"to1_11\">11</td><td nowrap=\"nowrap\">|&nbsp;&nbsp;&nbsp;|&nbsp;&nbsp;&nbsp;|&nbsp;&nbsp;&nbsp;|---&nbsp;truncated&nbsp;branch&nbsp;of&nbsp;depth&nbsp;2</td></tr>\n",
              "            <tr><td class=\"diff_next\"></td><td class=\"diff_header\" id=\"from1_12\">12</td><td nowrap=\"nowrap\">|---&nbsp;src_bytes&nbsp;&gt;&nbsp;&nbsp;29.00</td><td class=\"diff_next\"></td><td class=\"diff_header\" id=\"to1_12\">12</td><td nowrap=\"nowrap\">|---&nbsp;src_bytes&nbsp;&gt;&nbsp;&nbsp;29.00</td></tr>\n",
              "            <tr><td class=\"diff_next\"></td><td class=\"diff_header\" id=\"from1_13\">13</td><td nowrap=\"nowrap\">|&nbsp;&nbsp;&nbsp;|---&nbsp;src_bytes&nbsp;&lt;=&nbsp;518.00</td><td class=\"diff_next\"></td><td class=\"diff_header\" id=\"to1_13\">13</td><td nowrap=\"nowrap\">|&nbsp;&nbsp;&nbsp;|---&nbsp;src_bytes&nbsp;&lt;=&nbsp;518.00</td></tr>\n",
              "            <tr><td class=\"diff_next\"></td><td class=\"diff_header\" id=\"from1_14\">14</td><td nowrap=\"nowrap\">|&nbsp;&nbsp;&nbsp;|&nbsp;&nbsp;&nbsp;|---&nbsp;dst_host_srv_count&nbsp;&lt;=&nbsp;21.50</td><td class=\"diff_next\"></td><td class=\"diff_header\" id=\"to1_14\">14</td><td nowrap=\"nowrap\">|&nbsp;&nbsp;&nbsp;|&nbsp;&nbsp;&nbsp;|---&nbsp;dst_host_srv_count&nbsp;&lt;=&nbsp;21.50</td></tr>\n",
              "            <tr><td class=\"diff_next\"></td><td class=\"diff_header\" id=\"from1_15\">15</td><td nowrap=\"nowrap\">|&nbsp;&nbsp;&nbsp;|&nbsp;&nbsp;&nbsp;|&nbsp;&nbsp;&nbsp;|---&nbsp;truncated&nbsp;branch&nbsp;of&nbsp;depth&nbsp;4</td><td class=\"diff_next\"></td><td class=\"diff_header\" id=\"to1_15\">15</td><td nowrap=\"nowrap\">|&nbsp;&nbsp;&nbsp;|&nbsp;&nbsp;&nbsp;|&nbsp;&nbsp;&nbsp;|---&nbsp;truncated&nbsp;branch&nbsp;of&nbsp;depth&nbsp;4</td></tr>\n",
              "            <tr><td class=\"diff_next\"></td><td class=\"diff_header\" id=\"from1_16\">16</td><td nowrap=\"nowrap\">|&nbsp;&nbsp;&nbsp;|&nbsp;&nbsp;&nbsp;|---&nbsp;dst_host_srv_count&nbsp;&gt;&nbsp;&nbsp;21.50</td><td class=\"diff_next\"></td><td class=\"diff_header\" id=\"to1_16\">16</td><td nowrap=\"nowrap\">|&nbsp;&nbsp;&nbsp;|&nbsp;&nbsp;&nbsp;|---&nbsp;dst_host_srv_count&nbsp;&gt;&nbsp;&nbsp;21.50</td></tr>\n",
              "            <tr><td class=\"diff_next\"></td><td class=\"diff_header\" id=\"from1_17\">17</td><td nowrap=\"nowrap\">|&nbsp;&nbsp;&nbsp;|&nbsp;&nbsp;&nbsp;|&nbsp;&nbsp;&nbsp;|---&nbsp;class:&nbsp;normal</td><td class=\"diff_next\"></td><td class=\"diff_header\" id=\"to1_17\">17</td><td nowrap=\"nowrap\">|&nbsp;&nbsp;&nbsp;|&nbsp;&nbsp;&nbsp;|&nbsp;&nbsp;&nbsp;|---&nbsp;class:&nbsp;normal</td></tr>\n",
              "            <tr><td class=\"diff_next\"></td><td class=\"diff_header\" id=\"from1_18\">18</td><td nowrap=\"nowrap\">|&nbsp;&nbsp;&nbsp;|---&nbsp;src_bytes&nbsp;&gt;&nbsp;&nbsp;518.00</td><td class=\"diff_next\"></td><td class=\"diff_header\" id=\"to1_18\">18</td><td nowrap=\"nowrap\">|&nbsp;&nbsp;&nbsp;|---&nbsp;src_bytes&nbsp;&gt;&nbsp;&nbsp;518.00</td></tr>\n",
              "            <tr><td class=\"diff_next\"></td><td class=\"diff_header\" id=\"from1_19\">19</td><td nowrap=\"nowrap\">|&nbsp;&nbsp;&nbsp;|&nbsp;&nbsp;&nbsp;|---&nbsp;dst_host_srv_diff_host_rate&nbsp;&lt;=&nbsp;0.00</td><td class=\"diff_next\"></td><td class=\"diff_header\" id=\"to1_19\">19</td><td nowrap=\"nowrap\">|&nbsp;&nbsp;&nbsp;|&nbsp;&nbsp;&nbsp;|---&nbsp;dst_host_srv_diff_host_rate&nbsp;&lt;=&nbsp;0.00</td></tr>\n",
              "            <tr><td class=\"diff_next\"></td><td class=\"diff_header\" id=\"from1_20\">20</td><td nowrap=\"nowrap\">|&nbsp;&nbsp;&nbsp;|&nbsp;&nbsp;&nbsp;|&nbsp;&nbsp;&nbsp;|---&nbsp;truncated&nbsp;branch&nbsp;of&nbsp;depth&nbsp;3</td><td class=\"diff_next\"></td><td class=\"diff_header\" id=\"to1_20\">20</td><td nowrap=\"nowrap\">|&nbsp;&nbsp;&nbsp;|&nbsp;&nbsp;&nbsp;|&nbsp;&nbsp;&nbsp;|---&nbsp;truncated&nbsp;branch&nbsp;of&nbsp;depth&nbsp;3</td></tr>\n",
              "            <tr><td class=\"diff_next\"></td><td class=\"diff_header\" id=\"from1_21\">21</td><td nowrap=\"nowrap\">|&nbsp;&nbsp;&nbsp;|&nbsp;&nbsp;&nbsp;|---&nbsp;dst_host_srv_diff_host_rate&nbsp;&gt;&nbsp;&nbsp;0.00</td><td class=\"diff_next\"></td><td class=\"diff_header\" id=\"to1_21\">21</td><td nowrap=\"nowrap\">|&nbsp;&nbsp;&nbsp;|&nbsp;&nbsp;&nbsp;|---&nbsp;dst_host_srv_diff_host_rate&nbsp;&gt;&nbsp;&nbsp;0.00</td></tr>\n",
              "            <tr><td class=\"diff_next\"></td><td class=\"diff_header\" id=\"from1_22\">22</td><td nowrap=\"nowrap\">|&nbsp;&nbsp;&nbsp;|&nbsp;&nbsp;&nbsp;|&nbsp;&nbsp;&nbsp;|---&nbsp;class:&nbsp;normal</td><td class=\"diff_next\"></td><td class=\"diff_header\" id=\"to1_22\">22</td><td nowrap=\"nowrap\">|&nbsp;&nbsp;&nbsp;|&nbsp;&nbsp;&nbsp;|&nbsp;&nbsp;&nbsp;|---&nbsp;class:&nbsp;normal</td></tr>\n",
              "            <tr><td class=\"diff_next\"></td><td class=\"diff_header\" id=\"from1_23\">23</td><td nowrap=\"nowrap\"></td><td class=\"diff_next\"></td><td class=\"diff_header\" id=\"to1_23\">23</td><td nowrap=\"nowrap\"></td></tr>\n",
              "        </tbody>\n",
              "    </table>"
            ],
            "text/plain": [
              "<IPython.core.display.HTML object>"
            ]
          },
          "metadata": {},
          "execution_count": 62
        }
      ]
    }
  ]
}